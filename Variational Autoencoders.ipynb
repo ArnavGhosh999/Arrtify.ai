{
  "nbformat": 4,
  "nbformat_minor": 0,
  "metadata": {
    "colab": {
      "provenance": [],
      "mount_file_id": "1FzgnQauQF0Pv5tGaHyLdm7tOKLEFTW-C",
      "authorship_tag": "ABX9TyO+e1mZcLtQgGTedqN1oWS0",
      "include_colab_link": true
    },
    "kernelspec": {
      "name": "python3",
      "display_name": "Python 3"
    },
    "language_info": {
      "name": "python"
    }
  },
  "cells": [
    {
      "cell_type": "markdown",
      "metadata": {
        "id": "view-in-github",
        "colab_type": "text"
      },
      "source": [
        "<a href=\"https://colab.research.google.com/github/ArnavGhosh999/INTERACTIVE-ARTWORK-GENERATOR/blob/main/Variational%20Autoencoders.ipynb\" target=\"_parent\"><img src=\"https://colab.research.google.com/assets/colab-badge.svg\" alt=\"Open In Colab\"/></a>"
      ]
    },
    {
      "cell_type": "code",
      "execution_count": null,
      "metadata": {
        "id": "8TFpVbGyQkY2"
      },
      "outputs": [],
      "source": [
        "import os\n",
        "import numpy as np\n",
        "import matplotlib.pyplot as plt\n",
        "from tensorflow.keras.preprocessing.image import img_to_array, load_img\n",
        "from sklearn.model_selection import train_test_split\n",
        "from tensorflow.keras.layers import Input, Conv2D, Conv2DTranspose, Flatten, Dense, Reshape, Lambda\n",
        "from tensorflow.keras.models import Model\n",
        "from tensorflow.keras.losses import BinaryCrossentropy\n",
        "from tensorflow.keras import backend as K\n"
      ]
    },
    {
      "source": [
        "def load_images_from_folder(folder, img_size=(128, 128)):\n",
        "    images = []\n",
        "    for filename in os.listdir(folder):\n",
        "        if filename.startswith('.'):  # Ignore hidden files and directories\n",
        "            continue\n",
        "        img_path = os.path.join(folder, filename)\n",
        "        if os.path.isfile(img_path):  # Check if the path points to a file\n",
        "            img = load_img(img_path, target_size=img_size)\n",
        "            if img is not None:\n",
        "                img_array = img_to_array(img)\n",
        "                images.append(img_array)\n",
        "    return np.array(images)\n",
        "\n",
        "dataset_path = '/content/drive/MyDrive/artworks'\n",
        "images = load_images_from_folder(dataset_path)\n",
        "images = images.astype('float32') / 255.0  # Normalize the images\n",
        "\n",
        "print(f\"Number of images loaded: {len(images)}\")\n"
      ],
      "cell_type": "code",
      "metadata": {
        "colab": {
          "base_uri": "https://localhost:8080/"
        },
        "id": "BINCVPZ3R6rD",
        "outputId": "fcc8b393-d9bf-4848-a234-e4f9d0517cbd"
      },
      "execution_count": null,
      "outputs": [
        {
          "output_type": "stream",
          "name": "stderr",
          "text": [
            "/usr/local/lib/python3.10/dist-packages/PIL/Image.py:996: UserWarning: Palette images with Transparency expressed in bytes should be converted to RGBA images\n",
            "  warnings.warn(\n"
          ]
        },
        {
          "output_type": "stream",
          "name": "stdout",
          "text": [
            "Number of images loaded: 1134\n"
          ]
        }
      ]
    },
    {
      "cell_type": "code",
      "source": [
        "train_images, val_images = train_test_split(images, test_size=0.2, random_state=42)"
      ],
      "metadata": {
        "id": "uZMkDfs5QxOw"
      },
      "execution_count": null,
      "outputs": []
    },
    {
      "cell_type": "code",
      "source": [
        "latent_dim = 100\n",
        "\n",
        "def sampling(args):\n",
        "    z_mean, z_log_var = args\n",
        "    batch = K.shape(z_mean)[0]\n",
        "    dim = K.int_shape(z_mean)[1]\n",
        "    epsilon = K.random_normal(shape=(batch, dim))\n",
        "    return z_mean + K.exp(0.5 * z_log_var) * epsilon\n",
        "\n",
        "# Encoder\n",
        "inputs = Input(shape=(128, 128, 3))\n",
        "x = Conv2D(32, (3, 3), activation='relu', padding='same')(inputs)\n",
        "x = Conv2D(64, (3, 3), activation='relu', padding='same', strides=(2, 2))(x)\n",
        "x = Conv2D(128, (3, 3), activation='relu', padding='same', strides=(2, 2))(x)\n",
        "x = Flatten()(x)\n",
        "x = Dense(256, activation='relu')(x)\n",
        "z_mean = Dense(latent_dim)(x)\n",
        "z_log_var = Dense(latent_dim)(x)\n",
        "\n",
        "z = Lambda(sampling, output_shape=(latent_dim,))([z_mean, z_log_var])\n",
        "\n",
        "# Decoder\n",
        "decoder_input = Input(shape=(latent_dim,))\n",
        "x = Dense(32 * 32 * 128, activation='relu')(decoder_input)\n",
        "x = Reshape((32, 32, 128))(x)\n",
        "x = Conv2DTranspose(128, (3, 3), activation='relu', padding='same', strides=(2, 2))(x)\n",
        "x = Conv2DTranspose(64, (3, 3), activation='relu', padding='same', strides=(2, 2))(x)\n",
        "x = Conv2DTranspose(32, (3, 3), activation='relu', padding='same')(x)\n",
        "outputs = Conv2DTranspose(3, (3, 3), activation='sigmoid', padding='same')(x)\n",
        "\n",
        "encoder = Model(inputs, [z_mean, z_log_var, z], name='encoder')\n",
        "decoder = Model(decoder_input, outputs, name='decoder')\n",
        "\n",
        "# VAE model\n",
        "outputs = decoder(encoder(inputs)[2])\n",
        "vae = Model(inputs, outputs, name='vae')\n",
        "\n",
        "# VAE loss\n",
        "reconstruction_loss = BinaryCrossentropy()(K.flatten(inputs), K.flatten(outputs))\n",
        "reconstruction_loss *= 128 * 128 * 3\n",
        "kl_loss = 1 + z_log_var - K.square(z_mean) - K.exp(z_log_var)\n",
        "kl_loss = K.sum(kl_loss, axis=-1)\n",
        "kl_loss *= -0.5\n",
        "vae_loss = K.mean(reconstruction_loss + kl_loss)\n",
        "vae.add_loss(vae_loss)\n",
        "vae.compile(optimizer='adam')\n"
      ],
      "metadata": {
        "id": "l2P2lLUTQxMU"
      },
      "execution_count": null,
      "outputs": []
    },
    {
      "cell_type": "code",
      "source": [
        "vae.fit(train_images, epochs=50, batch_size=32, validation_data=(val_images, None))\n"
      ],
      "metadata": {
        "colab": {
          "base_uri": "https://localhost:8080/"
        },
        "id": "yOYE-k9MQxDl",
        "outputId": "1aed0c30-3c3d-4354-9e1e-bb54b25a41f2"
      },
      "execution_count": null,
      "outputs": [
        {
          "output_type": "stream",
          "name": "stdout",
          "text": [
            "Epoch 1/50\n",
            "29/29 [==============================] - 206s 7s/step - loss: 33279.0391 - val_loss: 32852.4141\n",
            "Epoch 2/50\n",
            "29/29 [==============================] - 205s 7s/step - loss: 32027.0430 - val_loss: 31790.7148\n",
            "Epoch 3/50\n",
            "29/29 [==============================] - 204s 7s/step - loss: 31542.9922 - val_loss: 31184.5215\n",
            "Epoch 4/50\n",
            "29/29 [==============================] - 199s 7s/step - loss: 31119.7793 - val_loss: 30759.3809\n",
            "Epoch 5/50\n",
            "29/29 [==============================] - 198s 7s/step - loss: 30425.5352 - val_loss: 30065.1250\n",
            "Epoch 6/50\n",
            "29/29 [==============================] - 211s 7s/step - loss: 29946.7090 - val_loss: 29650.5352\n",
            "Epoch 7/50\n",
            "29/29 [==============================] - 200s 7s/step - loss: 29567.9395 - val_loss: 29445.8398\n",
            "Epoch 8/50\n",
            "29/29 [==============================] - 201s 7s/step - loss: 29344.1855 - val_loss: 29367.8945\n",
            "Epoch 9/50\n",
            "29/29 [==============================] - 216s 7s/step - loss: 29222.2969 - val_loss: 29261.3516\n",
            "Epoch 10/50\n",
            "29/29 [==============================] - 202s 7s/step - loss: 29079.5625 - val_loss: 29071.7598\n",
            "Epoch 11/50\n",
            "29/29 [==============================] - 203s 7s/step - loss: 28862.1406 - val_loss: 29118.7148\n",
            "Epoch 12/50\n",
            "29/29 [==============================] - 209s 7s/step - loss: 28814.2695 - val_loss: 28998.0996\n",
            "Epoch 13/50\n",
            "29/29 [==============================] - 200s 7s/step - loss: 28641.9199 - val_loss: 28908.5625\n",
            "Epoch 14/50\n",
            "29/29 [==============================] - 200s 7s/step - loss: 28541.2559 - val_loss: 28973.1016\n",
            "Epoch 15/50\n",
            "29/29 [==============================] - 207s 7s/step - loss: 28423.6504 - val_loss: 28975.8281\n",
            "Epoch 16/50\n",
            "29/29 [==============================] - 198s 7s/step - loss: 28280.0273 - val_loss: 29007.0059\n",
            "Epoch 17/50\n",
            "29/29 [==============================] - 208s 7s/step - loss: 28127.2422 - val_loss: 29087.6875\n",
            "Epoch 18/50\n",
            "29/29 [==============================] - 211s 7s/step - loss: 27972.1387 - val_loss: 29043.7930\n",
            "Epoch 19/50\n",
            "29/29 [==============================] - 199s 7s/step - loss: 27852.2676 - val_loss: 29256.7305\n",
            "Epoch 20/50\n",
            "29/29 [==============================] - 201s 7s/step - loss: 27547.4004 - val_loss: 28945.3457\n",
            "Epoch 21/50\n",
            "29/29 [==============================] - 198s 7s/step - loss: 27365.2461 - val_loss: 29018.9238\n",
            "Epoch 22/50\n",
            "29/29 [==============================] - 208s 7s/step - loss: 27171.7266 - val_loss: 29422.8906\n",
            "Epoch 23/50\n",
            "29/29 [==============================] - 210s 7s/step - loss: 26967.0234 - val_loss: 29002.1367\n",
            "Epoch 24/50\n",
            "29/29 [==============================] - 207s 7s/step - loss: 26772.6602 - val_loss: 29021.3281\n",
            "Epoch 25/50\n",
            "29/29 [==============================] - 207s 7s/step - loss: 26703.2090 - val_loss: 29128.6602\n",
            "Epoch 26/50\n",
            "29/29 [==============================] - 207s 7s/step - loss: 26469.3145 - val_loss: 29139.4883\n",
            "Epoch 27/50\n",
            "29/29 [==============================] - 205s 7s/step - loss: 26401.7324 - val_loss: 29217.2402\n",
            "Epoch 28/50\n",
            "29/29 [==============================] - 208s 7s/step - loss: 26246.4297 - val_loss: 29176.5215\n",
            "Epoch 29/50\n",
            "29/29 [==============================] - 200s 7s/step - loss: 26167.1309 - val_loss: 29560.4863\n",
            "Epoch 30/50\n",
            "29/29 [==============================] - 201s 7s/step - loss: 26144.0254 - val_loss: 29473.2031\n",
            "Epoch 31/50\n",
            "29/29 [==============================] - 200s 7s/step - loss: 25996.6074 - val_loss: 29233.3574\n",
            "Epoch 32/50\n",
            "29/29 [==============================] - 209s 7s/step - loss: 26007.0254 - val_loss: 29429.1484\n",
            "Epoch 33/50\n",
            "29/29 [==============================] - 211s 7s/step - loss: 26062.2891 - val_loss: 29470.2109\n",
            "Epoch 34/50\n",
            "29/29 [==============================] - 206s 7s/step - loss: 25863.8984 - val_loss: 29356.2539\n",
            "Epoch 35/50\n",
            "29/29 [==============================] - 208s 7s/step - loss: 25753.3477 - val_loss: 29392.6602\n",
            "Epoch 36/50\n",
            "29/29 [==============================] - 203s 7s/step - loss: 25737.7832 - val_loss: 29339.6719\n",
            "Epoch 37/50\n",
            "29/29 [==============================] - 203s 7s/step - loss: 25641.8945 - val_loss: 29499.6680\n",
            "Epoch 38/50\n",
            "29/29 [==============================] - 202s 7s/step - loss: 25669.6406 - val_loss: 29397.8535\n",
            "Epoch 39/50\n",
            "29/29 [==============================] - 206s 7s/step - loss: 25627.1582 - val_loss: 29491.9961\n",
            "Epoch 40/50\n",
            "29/29 [==============================] - 209s 7s/step - loss: 25593.7207 - val_loss: 29421.4961\n",
            "Epoch 41/50\n",
            "29/29 [==============================] - 208s 7s/step - loss: 25587.7266 - val_loss: 29602.7930\n",
            "Epoch 42/50\n",
            "29/29 [==============================] - 209s 7s/step - loss: 25621.8281 - val_loss: 29493.6973\n",
            "Epoch 43/50\n",
            "29/29 [==============================] - 210s 7s/step - loss: 25467.3066 - val_loss: 29688.1914\n",
            "Epoch 44/50\n",
            "29/29 [==============================] - 205s 7s/step - loss: 25532.4746 - val_loss: 29550.0625\n",
            "Epoch 45/50\n",
            "29/29 [==============================] - 203s 7s/step - loss: 25396.7559 - val_loss: 29536.7031\n",
            "Epoch 46/50\n",
            "29/29 [==============================] - 210s 7s/step - loss: 25387.8203 - val_loss: 29675.1270\n",
            "Epoch 47/50\n",
            "29/29 [==============================] - 210s 7s/step - loss: 25414.3477 - val_loss: 29533.8340\n",
            "Epoch 48/50\n",
            "29/29 [==============================] - 205s 7s/step - loss: 25403.0781 - val_loss: 29723.6055\n",
            "Epoch 49/50\n",
            "29/29 [==============================] - 202s 7s/step - loss: 25419.5625 - val_loss: 29655.0273\n",
            "Epoch 50/50\n",
            "29/29 [==============================] - 205s 7s/step - loss: 25356.8086 - val_loss: 29606.9961\n"
          ]
        },
        {
          "output_type": "execute_result",
          "data": {
            "text/plain": [
              "<keras.src.callbacks.History at 0x7db4e62ddf00>"
            ]
          },
          "metadata": {},
          "execution_count": 9
        }
      ]
    },
    {
      "cell_type": "code",
      "source": [],
      "metadata": {
        "id": "TXuokDBCQxAN"
      },
      "execution_count": null,
      "outputs": []
    },
    {
      "cell_type": "code",
      "source": [],
      "metadata": {
        "id": "11I0gdx6Qw9n"
      },
      "execution_count": null,
      "outputs": []
    }
  ]
}